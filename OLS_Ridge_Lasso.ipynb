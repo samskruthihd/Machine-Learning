{
 "cells": [
  {
   "cell_type": "markdown",
   "id": "f0918477",
   "metadata": {},
   "source": [
    "\n",
    "### Compare the performance of the three model OLS, Ridge and the Lasso on the attached test data\n"
   ]
  },
  {
   "cell_type": "code",
   "execution_count": 2,
   "id": "8eaa99d6",
   "metadata": {},
   "outputs": [],
   "source": [
    "import numpy as np\n",
    "import pandas as pd\n",
    "import matplotlib.pyplot as plt\n",
    "import seaborn as sns\n",
    "import warnings\n",
    "warnings.filterwarnings(\"ignore\")"
   ]
  },
  {
   "cell_type": "code",
   "execution_count": 3,
   "id": "8f6425ee",
   "metadata": {},
   "outputs": [
    {
     "data": {
      "text/html": [
       "<div>\n",
       "<style scoped>\n",
       "    .dataframe tbody tr th:only-of-type {\n",
       "        vertical-align: middle;\n",
       "    }\n",
       "\n",
       "    .dataframe tbody tr th {\n",
       "        vertical-align: top;\n",
       "    }\n",
       "\n",
       "    .dataframe thead th {\n",
       "        text-align: right;\n",
       "    }\n",
       "</style>\n",
       "<table border=\"1\" class=\"dataframe\">\n",
       "  <thead>\n",
       "    <tr style=\"text-align: right;\">\n",
       "      <th></th>\n",
       "      <th>Collection</th>\n",
       "      <th>Marketin_expense</th>\n",
       "      <th>Production_expense</th>\n",
       "      <th>Multiplex_coverage</th>\n",
       "      <th>Budget</th>\n",
       "      <th>Movie_length</th>\n",
       "      <th>Lead_ Actor_Rating</th>\n",
       "      <th>Lead_Actress_rating</th>\n",
       "      <th>Director_rating</th>\n",
       "      <th>Producer_rating</th>\n",
       "      <th>Critic_rating</th>\n",
       "      <th>Trailer_views</th>\n",
       "      <th>Time_taken</th>\n",
       "      <th>Twitter_hastags</th>\n",
       "      <th>Genre</th>\n",
       "      <th>Avg_age_actors</th>\n",
       "      <th>MPAA_film_rating</th>\n",
       "      <th>Num_multiplex</th>\n",
       "      <th>3D_available</th>\n",
       "    </tr>\n",
       "  </thead>\n",
       "  <tbody>\n",
       "    <tr>\n",
       "      <th>0</th>\n",
       "      <td>11200</td>\n",
       "      <td>520.9220</td>\n",
       "      <td>91.2</td>\n",
       "      <td>0.307</td>\n",
       "      <td>33257.785</td>\n",
       "      <td>173.5</td>\n",
       "      <td>9.135</td>\n",
       "      <td>9.31</td>\n",
       "      <td>9.040</td>\n",
       "      <td>9.335</td>\n",
       "      <td>7.96</td>\n",
       "      <td>308973</td>\n",
       "      <td>184.24</td>\n",
       "      <td>220.896</td>\n",
       "      <td>Drama</td>\n",
       "      <td>30</td>\n",
       "      <td>PG</td>\n",
       "      <td>618</td>\n",
       "      <td>YES</td>\n",
       "    </tr>\n",
       "    <tr>\n",
       "      <th>1</th>\n",
       "      <td>14400</td>\n",
       "      <td>304.7240</td>\n",
       "      <td>91.2</td>\n",
       "      <td>0.307</td>\n",
       "      <td>35235.365</td>\n",
       "      <td>173.5</td>\n",
       "      <td>9.120</td>\n",
       "      <td>9.33</td>\n",
       "      <td>9.095</td>\n",
       "      <td>9.305</td>\n",
       "      <td>7.96</td>\n",
       "      <td>374897</td>\n",
       "      <td>146.88</td>\n",
       "      <td>201.152</td>\n",
       "      <td>Comedy</td>\n",
       "      <td>50</td>\n",
       "      <td>PG</td>\n",
       "      <td>703</td>\n",
       "      <td>YES</td>\n",
       "    </tr>\n",
       "    <tr>\n",
       "      <th>2</th>\n",
       "      <td>24200</td>\n",
       "      <td>211.9142</td>\n",
       "      <td>91.2</td>\n",
       "      <td>0.307</td>\n",
       "      <td>35574.220</td>\n",
       "      <td>173.5</td>\n",
       "      <td>9.170</td>\n",
       "      <td>9.32</td>\n",
       "      <td>9.115</td>\n",
       "      <td>9.120</td>\n",
       "      <td>7.96</td>\n",
       "      <td>359036</td>\n",
       "      <td>108.84</td>\n",
       "      <td>281.936</td>\n",
       "      <td>Thriller</td>\n",
       "      <td>42</td>\n",
       "      <td>PG</td>\n",
       "      <td>689</td>\n",
       "      <td>NO</td>\n",
       "    </tr>\n",
       "    <tr>\n",
       "      <th>3</th>\n",
       "      <td>16600</td>\n",
       "      <td>516.0340</td>\n",
       "      <td>91.2</td>\n",
       "      <td>0.307</td>\n",
       "      <td>29713.695</td>\n",
       "      <td>169.5</td>\n",
       "      <td>9.125</td>\n",
       "      <td>9.31</td>\n",
       "      <td>9.060</td>\n",
       "      <td>9.100</td>\n",
       "      <td>6.96</td>\n",
       "      <td>384237</td>\n",
       "      <td>NaN</td>\n",
       "      <td>301.328</td>\n",
       "      <td>Thriller</td>\n",
       "      <td>40</td>\n",
       "      <td>PG</td>\n",
       "      <td>677</td>\n",
       "      <td>YES</td>\n",
       "    </tr>\n",
       "    <tr>\n",
       "      <th>4</th>\n",
       "      <td>17000</td>\n",
       "      <td>850.5840</td>\n",
       "      <td>91.2</td>\n",
       "      <td>0.307</td>\n",
       "      <td>30724.705</td>\n",
       "      <td>158.9</td>\n",
       "      <td>9.050</td>\n",
       "      <td>9.22</td>\n",
       "      <td>9.185</td>\n",
       "      <td>9.330</td>\n",
       "      <td>7.96</td>\n",
       "      <td>312011</td>\n",
       "      <td>169.40</td>\n",
       "      <td>221.360</td>\n",
       "      <td>Comedy</td>\n",
       "      <td>56</td>\n",
       "      <td>PG</td>\n",
       "      <td>615</td>\n",
       "      <td>NO</td>\n",
       "    </tr>\n",
       "  </tbody>\n",
       "</table>\n",
       "</div>"
      ],
      "text/plain": [
       "   Collection  Marketin_expense  Production_expense  Multiplex_coverage  \\\n",
       "0       11200          520.9220                91.2               0.307   \n",
       "1       14400          304.7240                91.2               0.307   \n",
       "2       24200          211.9142                91.2               0.307   \n",
       "3       16600          516.0340                91.2               0.307   \n",
       "4       17000          850.5840                91.2               0.307   \n",
       "\n",
       "      Budget  Movie_length  Lead_ Actor_Rating  Lead_Actress_rating  \\\n",
       "0  33257.785         173.5               9.135                 9.31   \n",
       "1  35235.365         173.5               9.120                 9.33   \n",
       "2  35574.220         173.5               9.170                 9.32   \n",
       "3  29713.695         169.5               9.125                 9.31   \n",
       "4  30724.705         158.9               9.050                 9.22   \n",
       "\n",
       "   Director_rating  Producer_rating  Critic_rating  Trailer_views  Time_taken  \\\n",
       "0            9.040            9.335           7.96         308973      184.24   \n",
       "1            9.095            9.305           7.96         374897      146.88   \n",
       "2            9.115            9.120           7.96         359036      108.84   \n",
       "3            9.060            9.100           6.96         384237         NaN   \n",
       "4            9.185            9.330           7.96         312011      169.40   \n",
       "\n",
       "   Twitter_hastags     Genre  Avg_age_actors MPAA_film_rating  Num_multiplex  \\\n",
       "0          220.896     Drama              30               PG            618   \n",
       "1          201.152    Comedy              50               PG            703   \n",
       "2          281.936  Thriller              42               PG            689   \n",
       "3          301.328  Thriller              40               PG            677   \n",
       "4          221.360    Comedy              56               PG            615   \n",
       "\n",
       "  3D_available  \n",
       "0          YES  \n",
       "1          YES  \n",
       "2           NO  \n",
       "3          YES  \n",
       "4           NO  "
      ]
     },
     "execution_count": 3,
     "metadata": {},
     "output_type": "execute_result"
    }
   ],
   "source": [
    "data=pd.read_csv(\"20.1 Movie_collection_test.csv\")\n",
    "data.head()"
   ]
  },
  {
   "cell_type": "code",
   "execution_count": 4,
   "id": "3ebc9acd",
   "metadata": {},
   "outputs": [
    {
     "data": {
      "text/plain": [
       "(106, 19)"
      ]
     },
     "execution_count": 4,
     "metadata": {},
     "output_type": "execute_result"
    }
   ],
   "source": [
    "data.shape"
   ]
  },
  {
   "cell_type": "code",
   "execution_count": 5,
   "id": "60f46e2b",
   "metadata": {},
   "outputs": [
    {
     "name": "stdout",
     "output_type": "stream",
     "text": [
      "<class 'pandas.core.frame.DataFrame'>\n",
      "RangeIndex: 106 entries, 0 to 105\n",
      "Data columns (total 19 columns):\n",
      " #   Column               Non-Null Count  Dtype  \n",
      "---  ------               --------------  -----  \n",
      " 0   Collection           106 non-null    int64  \n",
      " 1   Marketin_expense     106 non-null    float64\n",
      " 2   Production_expense   106 non-null    float64\n",
      " 3   Multiplex_coverage   106 non-null    float64\n",
      " 4   Budget               106 non-null    float64\n",
      " 5   Movie_length         106 non-null    float64\n",
      " 6   Lead_ Actor_Rating   106 non-null    float64\n",
      " 7   Lead_Actress_rating  106 non-null    float64\n",
      " 8   Director_rating      106 non-null    float64\n",
      " 9   Producer_rating      106 non-null    float64\n",
      " 10  Critic_rating        106 non-null    float64\n",
      " 11  Trailer_views        106 non-null    int64  \n",
      " 12  Time_taken           102 non-null    float64\n",
      " 13  Twitter_hastags      106 non-null    float64\n",
      " 14  Genre                106 non-null    object \n",
      " 15  Avg_age_actors       106 non-null    int64  \n",
      " 16  MPAA_film_rating     106 non-null    object \n",
      " 17  Num_multiplex        106 non-null    int64  \n",
      " 18  3D_available         106 non-null    object \n",
      "dtypes: float64(12), int64(4), object(3)\n",
      "memory usage: 15.9+ KB\n"
     ]
    }
   ],
   "source": [
    "data.info()"
   ]
  },
  {
   "cell_type": "code",
   "execution_count": 6,
   "id": "f13ced5e",
   "metadata": {},
   "outputs": [
    {
     "data": {
      "text/plain": [
       "Collection             0\n",
       "Marketin_expense       0\n",
       "Production_expense     0\n",
       "Multiplex_coverage     0\n",
       "Budget                 0\n",
       "Movie_length           0\n",
       "Lead_ Actor_Rating     0\n",
       "Lead_Actress_rating    0\n",
       "Director_rating        0\n",
       "Producer_rating        0\n",
       "Critic_rating          0\n",
       "Trailer_views          0\n",
       "Time_taken             4\n",
       "Twitter_hastags        0\n",
       "Genre                  0\n",
       "Avg_age_actors         0\n",
       "MPAA_film_rating       0\n",
       "Num_multiplex          0\n",
       "3D_available           0\n",
       "dtype: int64"
      ]
     },
     "execution_count": 6,
     "metadata": {},
     "output_type": "execute_result"
    }
   ],
   "source": [
    "data.isnull().sum()"
   ]
  },
  {
   "cell_type": "code",
   "execution_count": 7,
   "id": "1bb8687c",
   "metadata": {},
   "outputs": [],
   "source": [
    "mean=data.Time_taken.mean()\n",
    "data[\"Time_taken\"].fillna(mean,inplace=True)"
   ]
  },
  {
   "cell_type": "code",
   "execution_count": 8,
   "id": "f2a6627e",
   "metadata": {
    "scrolled": true
   },
   "outputs": [
    {
     "data": {
      "text/plain": [
       "Collection             0\n",
       "Marketin_expense       0\n",
       "Production_expense     0\n",
       "Multiplex_coverage     0\n",
       "Budget                 0\n",
       "Movie_length           0\n",
       "Lead_ Actor_Rating     0\n",
       "Lead_Actress_rating    0\n",
       "Director_rating        0\n",
       "Producer_rating        0\n",
       "Critic_rating          0\n",
       "Trailer_views          0\n",
       "Time_taken             0\n",
       "Twitter_hastags        0\n",
       "Genre                  0\n",
       "Avg_age_actors         0\n",
       "MPAA_film_rating       0\n",
       "Num_multiplex          0\n",
       "3D_available           0\n",
       "dtype: int64"
      ]
     },
     "execution_count": 8,
     "metadata": {},
     "output_type": "execute_result"
    }
   ],
   "source": [
    "data.isnull().sum()"
   ]
  },
  {
   "cell_type": "markdown",
   "id": "b354dfca",
   "metadata": {},
   "source": [
    "### Convert categorical variables to numerical"
   ]
  },
  {
   "cell_type": "code",
   "execution_count": 9,
   "id": "66a49629",
   "metadata": {},
   "outputs": [
    {
     "data": {
      "text/plain": [
       "array(['Drama', 'Comedy', 'Thriller', 'Action'], dtype=object)"
      ]
     },
     "execution_count": 9,
     "metadata": {},
     "output_type": "execute_result"
    }
   ],
   "source": [
    "data.Genre.unique()"
   ]
  },
  {
   "cell_type": "code",
   "execution_count": 10,
   "id": "9311fdb8",
   "metadata": {},
   "outputs": [],
   "source": [
    "from sklearn.preprocessing import LabelEncoder\n",
    "le=LabelEncoder()\n",
    "data[\"Genre\"]=le.fit_transform(data['Genre'])"
   ]
  },
  {
   "cell_type": "code",
   "execution_count": 11,
   "id": "10e59fbc",
   "metadata": {},
   "outputs": [],
   "source": [
    "import category_encoders as ce\n",
    "ce_be = ce.BinaryEncoder(cols=[\"3D_available\"]);\n",
    "data[\"3D_available\"]=ce_be.fit_transform(data[\"3D_available\"]);"
   ]
  },
  {
   "cell_type": "code",
   "execution_count": 12,
   "id": "186761ba",
   "metadata": {},
   "outputs": [],
   "source": [
    "data.drop([\"MPAA_film_rating\"],axis=1,inplace=True)"
   ]
  },
  {
   "cell_type": "code",
   "execution_count": 13,
   "id": "2e6be330",
   "metadata": {},
   "outputs": [
    {
     "data": {
      "text/html": [
       "<div>\n",
       "<style scoped>\n",
       "    .dataframe tbody tr th:only-of-type {\n",
       "        vertical-align: middle;\n",
       "    }\n",
       "\n",
       "    .dataframe tbody tr th {\n",
       "        vertical-align: top;\n",
       "    }\n",
       "\n",
       "    .dataframe thead th {\n",
       "        text-align: right;\n",
       "    }\n",
       "</style>\n",
       "<table border=\"1\" class=\"dataframe\">\n",
       "  <thead>\n",
       "    <tr style=\"text-align: right;\">\n",
       "      <th></th>\n",
       "      <th>Collection</th>\n",
       "      <th>Marketin_expense</th>\n",
       "      <th>Production_expense</th>\n",
       "      <th>Multiplex_coverage</th>\n",
       "      <th>Budget</th>\n",
       "      <th>Movie_length</th>\n",
       "      <th>Lead_ Actor_Rating</th>\n",
       "      <th>Lead_Actress_rating</th>\n",
       "      <th>Director_rating</th>\n",
       "      <th>Producer_rating</th>\n",
       "      <th>Critic_rating</th>\n",
       "      <th>Trailer_views</th>\n",
       "      <th>Time_taken</th>\n",
       "      <th>Twitter_hastags</th>\n",
       "      <th>Genre</th>\n",
       "      <th>Avg_age_actors</th>\n",
       "      <th>Num_multiplex</th>\n",
       "      <th>3D_available</th>\n",
       "    </tr>\n",
       "  </thead>\n",
       "  <tbody>\n",
       "    <tr>\n",
       "      <th>0</th>\n",
       "      <td>11200</td>\n",
       "      <td>520.9220</td>\n",
       "      <td>91.2</td>\n",
       "      <td>0.307</td>\n",
       "      <td>33257.785</td>\n",
       "      <td>173.5</td>\n",
       "      <td>9.135</td>\n",
       "      <td>9.31</td>\n",
       "      <td>9.040</td>\n",
       "      <td>9.335</td>\n",
       "      <td>7.96</td>\n",
       "      <td>308973</td>\n",
       "      <td>184.24</td>\n",
       "      <td>220.896</td>\n",
       "      <td>2</td>\n",
       "      <td>30</td>\n",
       "      <td>618</td>\n",
       "      <td>0</td>\n",
       "    </tr>\n",
       "    <tr>\n",
       "      <th>1</th>\n",
       "      <td>14400</td>\n",
       "      <td>304.7240</td>\n",
       "      <td>91.2</td>\n",
       "      <td>0.307</td>\n",
       "      <td>35235.365</td>\n",
       "      <td>173.5</td>\n",
       "      <td>9.120</td>\n",
       "      <td>9.33</td>\n",
       "      <td>9.095</td>\n",
       "      <td>9.305</td>\n",
       "      <td>7.96</td>\n",
       "      <td>374897</td>\n",
       "      <td>146.88</td>\n",
       "      <td>201.152</td>\n",
       "      <td>1</td>\n",
       "      <td>50</td>\n",
       "      <td>703</td>\n",
       "      <td>0</td>\n",
       "    </tr>\n",
       "    <tr>\n",
       "      <th>2</th>\n",
       "      <td>24200</td>\n",
       "      <td>211.9142</td>\n",
       "      <td>91.2</td>\n",
       "      <td>0.307</td>\n",
       "      <td>35574.220</td>\n",
       "      <td>173.5</td>\n",
       "      <td>9.170</td>\n",
       "      <td>9.32</td>\n",
       "      <td>9.115</td>\n",
       "      <td>9.120</td>\n",
       "      <td>7.96</td>\n",
       "      <td>359036</td>\n",
       "      <td>108.84</td>\n",
       "      <td>281.936</td>\n",
       "      <td>3</td>\n",
       "      <td>42</td>\n",
       "      <td>689</td>\n",
       "      <td>1</td>\n",
       "    </tr>\n",
       "    <tr>\n",
       "      <th>3</th>\n",
       "      <td>16600</td>\n",
       "      <td>516.0340</td>\n",
       "      <td>91.2</td>\n",
       "      <td>0.307</td>\n",
       "      <td>29713.695</td>\n",
       "      <td>169.5</td>\n",
       "      <td>9.125</td>\n",
       "      <td>9.31</td>\n",
       "      <td>9.060</td>\n",
       "      <td>9.100</td>\n",
       "      <td>6.96</td>\n",
       "      <td>384237</td>\n",
       "      <td>155.86</td>\n",
       "      <td>301.328</td>\n",
       "      <td>3</td>\n",
       "      <td>40</td>\n",
       "      <td>677</td>\n",
       "      <td>0</td>\n",
       "    </tr>\n",
       "    <tr>\n",
       "      <th>4</th>\n",
       "      <td>17000</td>\n",
       "      <td>850.5840</td>\n",
       "      <td>91.2</td>\n",
       "      <td>0.307</td>\n",
       "      <td>30724.705</td>\n",
       "      <td>158.9</td>\n",
       "      <td>9.050</td>\n",
       "      <td>9.22</td>\n",
       "      <td>9.185</td>\n",
       "      <td>9.330</td>\n",
       "      <td>7.96</td>\n",
       "      <td>312011</td>\n",
       "      <td>169.40</td>\n",
       "      <td>221.360</td>\n",
       "      <td>1</td>\n",
       "      <td>56</td>\n",
       "      <td>615</td>\n",
       "      <td>1</td>\n",
       "    </tr>\n",
       "  </tbody>\n",
       "</table>\n",
       "</div>"
      ],
      "text/plain": [
       "   Collection  Marketin_expense  Production_expense  Multiplex_coverage  \\\n",
       "0       11200          520.9220                91.2               0.307   \n",
       "1       14400          304.7240                91.2               0.307   \n",
       "2       24200          211.9142                91.2               0.307   \n",
       "3       16600          516.0340                91.2               0.307   \n",
       "4       17000          850.5840                91.2               0.307   \n",
       "\n",
       "      Budget  Movie_length  Lead_ Actor_Rating  Lead_Actress_rating  \\\n",
       "0  33257.785         173.5               9.135                 9.31   \n",
       "1  35235.365         173.5               9.120                 9.33   \n",
       "2  35574.220         173.5               9.170                 9.32   \n",
       "3  29713.695         169.5               9.125                 9.31   \n",
       "4  30724.705         158.9               9.050                 9.22   \n",
       "\n",
       "   Director_rating  Producer_rating  Critic_rating  Trailer_views  Time_taken  \\\n",
       "0            9.040            9.335           7.96         308973      184.24   \n",
       "1            9.095            9.305           7.96         374897      146.88   \n",
       "2            9.115            9.120           7.96         359036      108.84   \n",
       "3            9.060            9.100           6.96         384237      155.86   \n",
       "4            9.185            9.330           7.96         312011      169.40   \n",
       "\n",
       "   Twitter_hastags  Genre  Avg_age_actors  Num_multiplex  3D_available  \n",
       "0          220.896      2              30            618             0  \n",
       "1          201.152      1              50            703             0  \n",
       "2          281.936      3              42            689             1  \n",
       "3          301.328      3              40            677             0  \n",
       "4          221.360      1              56            615             1  "
      ]
     },
     "execution_count": 13,
     "metadata": {},
     "output_type": "execute_result"
    }
   ],
   "source": [
    "data.head()"
   ]
  },
  {
   "cell_type": "code",
   "execution_count": 14,
   "id": "62abcbe2",
   "metadata": {},
   "outputs": [],
   "source": [
    "import statsmodels.api as sm\n",
    "X=data.drop([\"Collection\"],axis=1)\n",
    "y=data[\"Collection\"]"
   ]
  },
  {
   "cell_type": "code",
   "execution_count": 15,
   "id": "bee2cfef",
   "metadata": {
    "scrolled": true
   },
   "outputs": [
    {
     "data": {
      "text/html": [
       "<div>\n",
       "<style scoped>\n",
       "    .dataframe tbody tr th:only-of-type {\n",
       "        vertical-align: middle;\n",
       "    }\n",
       "\n",
       "    .dataframe tbody tr th {\n",
       "        vertical-align: top;\n",
       "    }\n",
       "\n",
       "    .dataframe thead th {\n",
       "        text-align: right;\n",
       "    }\n",
       "</style>\n",
       "<table border=\"1\" class=\"dataframe\">\n",
       "  <thead>\n",
       "    <tr style=\"text-align: right;\">\n",
       "      <th></th>\n",
       "      <th>Collection</th>\n",
       "      <th>Marketin_expense</th>\n",
       "      <th>Production_expense</th>\n",
       "      <th>Multiplex_coverage</th>\n",
       "      <th>Budget</th>\n",
       "      <th>Movie_length</th>\n",
       "      <th>Lead_ Actor_Rating</th>\n",
       "      <th>Lead_Actress_rating</th>\n",
       "      <th>Director_rating</th>\n",
       "      <th>Producer_rating</th>\n",
       "      <th>Critic_rating</th>\n",
       "      <th>Trailer_views</th>\n",
       "      <th>Time_taken</th>\n",
       "      <th>Twitter_hastags</th>\n",
       "      <th>Genre</th>\n",
       "      <th>Avg_age_actors</th>\n",
       "      <th>Num_multiplex</th>\n",
       "      <th>3D_available</th>\n",
       "    </tr>\n",
       "  </thead>\n",
       "  <tbody>\n",
       "    <tr>\n",
       "      <th>0</th>\n",
       "      <td>11200</td>\n",
       "      <td>520.9220</td>\n",
       "      <td>91.2</td>\n",
       "      <td>0.307</td>\n",
       "      <td>33257.785</td>\n",
       "      <td>173.5</td>\n",
       "      <td>9.135</td>\n",
       "      <td>9.31</td>\n",
       "      <td>9.040</td>\n",
       "      <td>9.335</td>\n",
       "      <td>7.96</td>\n",
       "      <td>308973</td>\n",
       "      <td>184.24</td>\n",
       "      <td>220.896</td>\n",
       "      <td>2</td>\n",
       "      <td>30</td>\n",
       "      <td>618</td>\n",
       "      <td>0</td>\n",
       "    </tr>\n",
       "    <tr>\n",
       "      <th>1</th>\n",
       "      <td>14400</td>\n",
       "      <td>304.7240</td>\n",
       "      <td>91.2</td>\n",
       "      <td>0.307</td>\n",
       "      <td>35235.365</td>\n",
       "      <td>173.5</td>\n",
       "      <td>9.120</td>\n",
       "      <td>9.33</td>\n",
       "      <td>9.095</td>\n",
       "      <td>9.305</td>\n",
       "      <td>7.96</td>\n",
       "      <td>374897</td>\n",
       "      <td>146.88</td>\n",
       "      <td>201.152</td>\n",
       "      <td>1</td>\n",
       "      <td>50</td>\n",
       "      <td>703</td>\n",
       "      <td>0</td>\n",
       "    </tr>\n",
       "    <tr>\n",
       "      <th>2</th>\n",
       "      <td>24200</td>\n",
       "      <td>211.9142</td>\n",
       "      <td>91.2</td>\n",
       "      <td>0.307</td>\n",
       "      <td>35574.220</td>\n",
       "      <td>173.5</td>\n",
       "      <td>9.170</td>\n",
       "      <td>9.32</td>\n",
       "      <td>9.115</td>\n",
       "      <td>9.120</td>\n",
       "      <td>7.96</td>\n",
       "      <td>359036</td>\n",
       "      <td>108.84</td>\n",
       "      <td>281.936</td>\n",
       "      <td>3</td>\n",
       "      <td>42</td>\n",
       "      <td>689</td>\n",
       "      <td>1</td>\n",
       "    </tr>\n",
       "    <tr>\n",
       "      <th>3</th>\n",
       "      <td>16600</td>\n",
       "      <td>516.0340</td>\n",
       "      <td>91.2</td>\n",
       "      <td>0.307</td>\n",
       "      <td>29713.695</td>\n",
       "      <td>169.5</td>\n",
       "      <td>9.125</td>\n",
       "      <td>9.31</td>\n",
       "      <td>9.060</td>\n",
       "      <td>9.100</td>\n",
       "      <td>6.96</td>\n",
       "      <td>384237</td>\n",
       "      <td>155.86</td>\n",
       "      <td>301.328</td>\n",
       "      <td>3</td>\n",
       "      <td>40</td>\n",
       "      <td>677</td>\n",
       "      <td>0</td>\n",
       "    </tr>\n",
       "    <tr>\n",
       "      <th>4</th>\n",
       "      <td>17000</td>\n",
       "      <td>850.5840</td>\n",
       "      <td>91.2</td>\n",
       "      <td>0.307</td>\n",
       "      <td>30724.705</td>\n",
       "      <td>158.9</td>\n",
       "      <td>9.050</td>\n",
       "      <td>9.22</td>\n",
       "      <td>9.185</td>\n",
       "      <td>9.330</td>\n",
       "      <td>7.96</td>\n",
       "      <td>312011</td>\n",
       "      <td>169.40</td>\n",
       "      <td>221.360</td>\n",
       "      <td>1</td>\n",
       "      <td>56</td>\n",
       "      <td>615</td>\n",
       "      <td>1</td>\n",
       "    </tr>\n",
       "  </tbody>\n",
       "</table>\n",
       "</div>"
      ],
      "text/plain": [
       "   Collection  Marketin_expense  Production_expense  Multiplex_coverage  \\\n",
       "0       11200          520.9220                91.2               0.307   \n",
       "1       14400          304.7240                91.2               0.307   \n",
       "2       24200          211.9142                91.2               0.307   \n",
       "3       16600          516.0340                91.2               0.307   \n",
       "4       17000          850.5840                91.2               0.307   \n",
       "\n",
       "      Budget  Movie_length  Lead_ Actor_Rating  Lead_Actress_rating  \\\n",
       "0  33257.785         173.5               9.135                 9.31   \n",
       "1  35235.365         173.5               9.120                 9.33   \n",
       "2  35574.220         173.5               9.170                 9.32   \n",
       "3  29713.695         169.5               9.125                 9.31   \n",
       "4  30724.705         158.9               9.050                 9.22   \n",
       "\n",
       "   Director_rating  Producer_rating  Critic_rating  Trailer_views  Time_taken  \\\n",
       "0            9.040            9.335           7.96         308973      184.24   \n",
       "1            9.095            9.305           7.96         374897      146.88   \n",
       "2            9.115            9.120           7.96         359036      108.84   \n",
       "3            9.060            9.100           6.96         384237      155.86   \n",
       "4            9.185            9.330           7.96         312011      169.40   \n",
       "\n",
       "   Twitter_hastags  Genre  Avg_age_actors  Num_multiplex  3D_available  \n",
       "0          220.896      2              30            618             0  \n",
       "1          201.152      1              50            703             0  \n",
       "2          281.936      3              42            689             1  \n",
       "3          301.328      3              40            677             0  \n",
       "4          221.360      1              56            615             1  "
      ]
     },
     "execution_count": 15,
     "metadata": {},
     "output_type": "execute_result"
    }
   ],
   "source": [
    "data.head()"
   ]
  },
  {
   "cell_type": "code",
   "execution_count": null,
   "id": "bb47c488",
   "metadata": {},
   "outputs": [],
   "source": []
  },
  {
   "cell_type": "code",
   "execution_count": 16,
   "id": "1b795602",
   "metadata": {},
   "outputs": [],
   "source": [
    "# standardize the numerical data \n",
    "from sklearn.preprocessing import StandardScaler\n",
    "sc=StandardScaler()\n",
    "col=['Marketin_expense','Production_expense','Multiplex_coverage','Budget',\n",
    "     'Movie_length','Lead_ Actor_Rating','Lead_Actress_rating','Director_rating',\n",
    "     'Producer_rating','Critic_rating','Trailer_views','Time_taken',\n",
    "     'Twitter_hastags','Avg_age_actors','Num_multiplex']\n",
    "X[col]=sc.fit_transform(X[col])\n"
   ]
  },
  {
   "cell_type": "markdown",
   "id": "d6740d06",
   "metadata": {},
   "source": [
    "## OLS"
   ]
  },
  {
   "cell_type": "markdown",
   "id": "f3b20afd",
   "metadata": {},
   "source": [
    "By default, the constant $\\beta$0 is zero in statsmodels. Thus we add a constant to our dependent variable X"
   ]
  },
  {
   "cell_type": "code",
   "execution_count": 17,
   "id": "b9d0739c",
   "metadata": {},
   "outputs": [],
   "source": [
    "import statsmodels.api as sm\n",
    "X_cons=sm.add_constant(X)\n",
    "X_cons\n",
    "#fit the model\n",
    "lm_OLS=sm.OLS(y,X_cons).fit()"
   ]
  },
  {
   "cell_type": "code",
   "execution_count": 18,
   "id": "46ecd997",
   "metadata": {},
   "outputs": [
    {
     "name": "stdout",
     "output_type": "stream",
     "text": [
      "                            OLS Regression Results                            \n",
      "==============================================================================\n",
      "Dep. Variable:             Collection   R-squared:                       0.658\n",
      "Model:                            OLS   Adj. R-squared:                  0.592\n",
      "Method:                 Least Squares   F-statistic:                     9.970\n",
      "Date:                Fri, 28 Jan 2022   Prob (F-statistic):           4.33e-14\n",
      "Time:                        09:06:50   Log-Likelihood:                -1076.3\n",
      "No. Observations:                 106   AIC:                             2189.\n",
      "Df Residuals:                      88   BIC:                             2236.\n",
      "Df Model:                          17                                         \n",
      "Covariance Type:            nonrobust                                         \n",
      "=======================================================================================\n",
      "                          coef    std err          t      P>|t|      [0.025      0.975]\n",
      "---------------------------------------------------------------------------------------\n",
      "const                3.235e+04   1551.828     20.849      0.000    2.93e+04    3.54e+04\n",
      "Marketin_expense    -2038.9873    799.392     -2.551      0.012   -3627.611    -450.364\n",
      "Production_expense   -933.9048    792.948     -1.178      0.242   -2509.721     641.912\n",
      "Multiplex_coverage   2767.0264   1213.370      2.280      0.025     355.709    5178.344\n",
      "Budget               -258.4206    858.910     -0.301      0.764   -1965.324    1448.483\n",
      "Movie_length         -697.3485   1105.263     -0.631      0.530   -2893.826    1499.129\n",
      "Lead_ Actor_Rating   -271.2960   3991.487     -0.068      0.946   -8203.537    7660.945\n",
      "Lead_Actress_rating -7503.2284   3879.969     -1.934      0.056   -1.52e+04     207.395\n",
      "Director_rating      9405.5745   3826.729      2.458      0.016    1800.754     1.7e+04\n",
      "Producer_rating     -2400.4481   1937.272     -1.239      0.219   -6250.369    1449.473\n",
      "Critic_rating        -261.0341    710.738     -0.367      0.714   -1673.476    1151.408\n",
      "Trailer_views        4106.7468   1038.780      3.953      0.000    2042.389    6171.104\n",
      "Time_taken           -629.9491    746.598     -0.844      0.401   -2113.655     853.757\n",
      "Twitter_hastags       503.6517    698.678      0.721      0.473    -884.824    1892.128\n",
      "Genre                -142.2710    711.855     -0.200      0.842   -1556.933    1272.391\n",
      "Avg_age_actors      -1009.1491    765.145     -1.319      0.191   -2529.713     511.415\n",
      "Num_multiplex        -541.0434   1120.834     -0.483      0.630   -2768.466    1686.379\n",
      "3D_available        -1142.0474   1482.655     -0.770      0.443   -4088.513    1804.418\n",
      "==============================================================================\n",
      "Omnibus:                       25.661   Durbin-Watson:                   1.341\n",
      "Prob(Omnibus):                  0.000   Jarque-Bera (JB):               40.077\n",
      "Skew:                           1.096   Prob(JB):                     1.98e-09\n",
      "Kurtosis:                       5.067   Cond. No.                         17.8\n",
      "==============================================================================\n",
      "\n",
      "Notes:\n",
      "[1] Standard Errors assume that the covariance matrix of the errors is correctly specified.\n"
     ]
    }
   ],
   "source": [
    "print(lm_OLS.summary())"
   ]
  },
  {
   "cell_type": "code",
   "execution_count": 19,
   "id": "bcbb5bf8",
   "metadata": {},
   "outputs": [
    {
     "data": {
      "text/plain": [
       "6213.247900828548"
      ]
     },
     "execution_count": 19,
     "metadata": {},
     "output_type": "execute_result"
    }
   ],
   "source": [
    "# RMSE\n",
    "from statsmodels.tools.eval_measures import rmse\n",
    "y_pred=lm_OLS.predict(X_cons)\n",
    "rmse(y,y_pred)"
   ]
  },
  {
   "cell_type": "markdown",
   "id": "900de9e2",
   "metadata": {},
   "source": [
    "From above result we can observe that R^2 value for our model 0.658 and Adj.R^2 value is 0.592 which is quite low and Prob (F-statistic) is very low. Thus, we can say with confidence that our independent has some effect on our dependent variable.\n",
    "\n",
    "The variable with lowest p value are Marketin_expense, Multiplex_coverage,Director_rating and Trailer_views. Hence these are the variable which are having highest impact on our dependent variable.\n",
    "\n",
    "The model coefficients for significant variables can be interpreted as follows:\n",
    "- If the Marketing Expense is increased by one unit, the Collection will decrease by 2038.9873 units\n",
    "- If the Multiplex Coverage is increased by one unit, the Collection will increase by 2767.0264 units\n",
    "- If the Director Rating is increased by one unit, the Collection will increase by 9405.5745 units\n",
    "- If the Trailer Views is increased by one unit, the Collection will increase by 4106.7468 units"
   ]
  },
  {
   "cell_type": "markdown",
   "id": "dbf362b5",
   "metadata": {},
   "source": [
    "## sklearn"
   ]
  },
  {
   "cell_type": "code",
   "execution_count": 20,
   "id": "3539f751",
   "metadata": {},
   "outputs": [],
   "source": [
    "from sklearn.model_selection import train_test_split\n",
    "X_train,X_test,y_train,y_test=train_test_split(X,y,test_size=0.2,\n",
    "                                               random_state=42)\n"
   ]
  },
  {
   "cell_type": "code",
   "execution_count": 21,
   "id": "3f7b047b",
   "metadata": {},
   "outputs": [
    {
     "name": "stdout",
     "output_type": "stream",
     "text": [
      "(84, 17) (22, 17) (84,) (22,)\n"
     ]
    }
   ],
   "source": [
    "print(X_train.shape,X_test.shape,y_train.shape,y_test.shape)"
   ]
  },
  {
   "cell_type": "code",
   "execution_count": 22,
   "id": "a401746c",
   "metadata": {},
   "outputs": [
    {
     "data": {
      "text/plain": [
       "LinearRegression()"
      ]
     },
     "execution_count": 22,
     "metadata": {},
     "output_type": "execute_result"
    }
   ],
   "source": [
    "from sklearn.linear_model import LinearRegression\n",
    "lm_SK=LinearRegression()\n",
    "lm_SK.fit(X_train,y_train)"
   ]
  },
  {
   "cell_type": "code",
   "execution_count": 23,
   "id": "f73636db",
   "metadata": {},
   "outputs": [],
   "source": [
    "y_test_pred=lm_SK.predict(X_test)\n",
    "y_train_pred=lm_SK.predict(X_train)"
   ]
  },
  {
   "cell_type": "markdown",
   "id": "d0396da4",
   "metadata": {},
   "source": [
    "## $R^2$"
   ]
  },
  {
   "cell_type": "code",
   "execution_count": 24,
   "id": "48fc4a05",
   "metadata": {},
   "outputs": [
    {
     "name": "stdout",
     "output_type": "stream",
     "text": [
      "R2 of the training data: 0.6751309176163105\n",
      "R2 of the test data: 0.41538022660379603\n"
     ]
    }
   ],
   "source": [
    "from sklearn.metrics import r2_score\n",
    "print(\"R2 of the training data:\",r2_score(y_train,y_train_pred))\n",
    "print(\"R2 of the test data:\",r2_score(y_test,y_test_pred))"
   ]
  },
  {
   "cell_type": "code",
   "execution_count": 25,
   "id": "b0a69a1e",
   "metadata": {},
   "outputs": [
    {
     "name": "stdout",
     "output_type": "stream",
     "text": [
      "The RMSE on the training data: 6201.850126531\n",
      "The RMSE on the test data: 7318.226400749107\n"
     ]
    }
   ],
   "source": [
    "#RMSE\n",
    "\n",
    "from sklearn.metrics import mean_squared_error\n",
    "\n",
    "print(\"The RMSE on the training data:\",np.sqrt(mean_squared_error\n",
    "                                (y_train,y_train_pred)))\n",
    "print(\"The RMSE on the test data:\",np.sqrt(mean_squared_error\n",
    "                                (y_test,y_test_pred)))\n"
   ]
  },
  {
   "cell_type": "markdown",
   "id": "57236969",
   "metadata": {},
   "source": [
    "## Ridge regression"
   ]
  },
  {
   "cell_type": "code",
   "execution_count": 26,
   "id": "1059d135",
   "metadata": {},
   "outputs": [
    {
     "data": {
      "text/plain": [
       "Ridge(alpha=0.5)"
      ]
     },
     "execution_count": 26,
     "metadata": {},
     "output_type": "execute_result"
    }
   ],
   "source": [
    "from sklearn.linear_model import Ridge\n",
    "lm_ridge=Ridge(alpha=0.5)\n",
    "lm_ridge.fit(X_train,y_train)"
   ]
  },
  {
   "cell_type": "code",
   "execution_count": 27,
   "id": "0e7e7de2",
   "metadata": {},
   "outputs": [
    {
     "data": {
      "text/plain": [
       "0.42119809256211327"
      ]
     },
     "execution_count": 27,
     "metadata": {},
     "output_type": "execute_result"
    }
   ],
   "source": [
    "r2_score(y_test,lm_ridge.predict(X_test))"
   ]
  },
  {
   "cell_type": "markdown",
   "id": "c137c90e",
   "metadata": {},
   "source": [
    "#### $R^2$ score is 42.11% which is very less."
   ]
  },
  {
   "cell_type": "code",
   "execution_count": 28,
   "id": "9c1765cb",
   "metadata": {},
   "outputs": [],
   "source": [
    "from sklearn.model_selection import validation_curve\n",
    "\n",
    "param_range=np.logspace(-2,8,100) #creates 100 values b/w 10^-2 & 10^8"
   ]
  },
  {
   "cell_type": "code",
   "execution_count": 29,
   "id": "81e67c95",
   "metadata": {},
   "outputs": [],
   "source": [
    "train_scores,test_scores=validation_curve(Ridge(),X_train,y_train,\n",
    "                                          \"alpha\",param_range)"
   ]
  },
  {
   "cell_type": "code",
   "execution_count": 30,
   "id": "2b23b38f",
   "metadata": {},
   "outputs": [],
   "source": [
    "train_mean=np.mean(train_scores,axis=1)\n",
    "test_mean=np.mean(test_scores,axis=1)"
   ]
  },
  {
   "cell_type": "code",
   "execution_count": 31,
   "id": "c06b21a6",
   "metadata": {},
   "outputs": [
    {
     "data": {
      "text/plain": [
       "0.5532070384386633"
      ]
     },
     "execution_count": 31,
     "metadata": {},
     "output_type": "execute_result"
    }
   ],
   "source": [
    "max(test_mean)"
   ]
  },
  {
   "cell_type": "code",
   "execution_count": 32,
   "id": "a594faa3",
   "metadata": {},
   "outputs": [
    {
     "data": {
      "image/png": "[encoded data removed]",
      "text/plain": [
       "<Figure size 432x432 with 3 Axes>"
      ]
     },
     "metadata": {
      "needs_background": "light"
     },
     "output_type": "display_data"
    }
   ],
   "source": [
    "sns.jointplot(x=np.log(param_range),y=test_mean);"
   ]
  },
  {
   "cell_type": "code",
   "execution_count": 33,
   "id": "cfb61253",
   "metadata": {},
   "outputs": [
    {
     "data": {
      "text/plain": [
       "(array([36], dtype=int64),)"
      ]
     },
     "execution_count": 33,
     "metadata": {},
     "output_type": "execute_result"
    }
   ],
   "source": [
    "#to find location on maximun r2 score value\n",
    "\n",
    "np.where(test_mean==max(test_mean))"
   ]
  },
  {
   "cell_type": "markdown",
   "id": "71b96ac4",
   "metadata": {},
   "source": [
    "#### The location of these maximum test mean is at 36 index."
   ]
  },
  {
   "cell_type": "code",
   "execution_count": 34,
   "id": "45be1c54",
   "metadata": {},
   "outputs": [
    {
     "data": {
      "text/plain": [
       "43.28761281083057"
      ]
     },
     "execution_count": 34,
     "metadata": {},
     "output_type": "execute_result"
    }
   ],
   "source": [
    "# to find lambda value of 37 index\n",
    "param_range[36]"
   ]
  },
  {
   "cell_type": "code",
   "execution_count": 35,
   "id": "dbcb94f6",
   "metadata": {},
   "outputs": [],
   "source": [
    "# again fit model for lambda=54.6227\n",
    "lm_ridge_best=Ridge(alpha=param_range[36])"
   ]
  },
  {
   "cell_type": "code",
   "execution_count": 36,
   "id": "f837ea34",
   "metadata": {},
   "outputs": [
    {
     "data": {
      "text/plain": [
       "Ridge(alpha=43.28761281083057)"
      ]
     },
     "execution_count": 36,
     "metadata": {},
     "output_type": "execute_result"
    }
   ],
   "source": [
    "lm_ridge_best.fit(X_train,y_train)"
   ]
  },
  {
   "cell_type": "code",
   "execution_count": 37,
   "id": "433b0a16",
   "metadata": {},
   "outputs": [
    {
     "name": "stdout",
     "output_type": "stream",
     "text": [
      "R2 of the training data: 0.6106303187532278\n",
      "R2 of the test data: 0.5913502419821439\n"
     ]
    }
   ],
   "source": [
    "print(\"R2 of the training data:\",r2_score(y_train,\n",
    "                                lm_ridge_best.predict(X_train)))\n",
    "print(\"R2 of the test data:\",r2_score(y_test,\n",
    "                                lm_ridge_best.predict(X_test)))"
   ]
  },
  {
   "cell_type": "code",
   "execution_count": 38,
   "id": "d298c6db",
   "metadata": {},
   "outputs": [
    {
     "name": "stdout",
     "output_type": "stream",
     "text": [
      "The RMSE on the training data: 6789.661794893326\n",
      "The RMSE on the test data: 6118.496470500617\n"
     ]
    }
   ],
   "source": [
    "print(\"The RMSE on the training data:\", np.sqrt(mean_squared_error\n",
    "                                (y_train,lm_ridge_best.predict(X_train))))\n",
    "print(\"The RMSE on the test data:\", np.sqrt(mean_squared_error\n",
    "                                (y_test,lm_ridge_best.predict(X_test))))"
   ]
  },
  {
   "cell_type": "markdown",
   "id": "4b40c8fb",
   "metadata": {},
   "source": [
    "#### we observe that the model is underfit, performance is not good in both train & test data."
   ]
  },
  {
   "cell_type": "markdown",
   "id": "8b012cd0",
   "metadata": {},
   "source": [
    "## Lasso Regression"
   ]
  },
  {
   "cell_type": "code",
   "execution_count": 39,
   "id": "fbf3c2cf",
   "metadata": {},
   "outputs": [
    {
     "data": {
      "text/plain": [
       "Lasso(alpha=0.4)"
      ]
     },
     "execution_count": 39,
     "metadata": {},
     "output_type": "execute_result"
    }
   ],
   "source": [
    "from sklearn.linear_model import Lasso\n",
    "\n",
    "lm_lasso=Lasso(alpha=0.4)\n",
    "lm_lasso.fit(X_train,y_train)"
   ]
  },
  {
   "cell_type": "code",
   "execution_count": 40,
   "id": "d7837633",
   "metadata": {},
   "outputs": [
    {
     "data": {
      "text/plain": [
       "0.4156808501212822"
      ]
     },
     "execution_count": 40,
     "metadata": {},
     "output_type": "execute_result"
    }
   ],
   "source": [
    "r2_score(y_test,lm_lasso.predict(X_test))"
   ]
  },
  {
   "cell_type": "markdown",
   "id": "1a89b01a",
   "metadata": {},
   "source": [
    "#### $R^2$ score is 41.56%, which is very less."
   ]
  },
  {
   "cell_type": "code",
   "execution_count": 41,
   "id": "8722eeb5",
   "metadata": {},
   "outputs": [],
   "source": [
    "param_range_2=np.logspace(-2,8,100)"
   ]
  },
  {
   "cell_type": "code",
   "execution_count": 42,
   "id": "42b9c1da",
   "metadata": {},
   "outputs": [],
   "source": [
    "train_scores_2,test_scores_2=validation_curve(Lasso(),X_train,y_train,\n",
    "                                \"alpha\",param_range_2,scoring=\"r2\")"
   ]
  },
  {
   "cell_type": "code",
   "execution_count": 43,
   "id": "fa4b29d3",
   "metadata": {},
   "outputs": [],
   "source": [
    "train_mean_2=np.mean(train_scores_2,axis=1)\n",
    "test_mean_2=np.mean(test_scores_2,axis=1)"
   ]
  },
  {
   "cell_type": "code",
   "execution_count": 44,
   "id": "dcfb6d07",
   "metadata": {},
   "outputs": [
    {
     "data": {
      "text/plain": [
       "0.5597714427491723"
      ]
     },
     "execution_count": 44,
     "metadata": {},
     "output_type": "execute_result"
    }
   ],
   "source": [
    "max(test_mean_2)"
   ]
  },
  {
   "cell_type": "code",
   "execution_count": 45,
   "id": "120c9386",
   "metadata": {},
   "outputs": [
    {
     "data": {
      "text/plain": [
       "<seaborn.axisgrid.JointGrid at 0x1c485bc5340>"
      ]
     },
     "execution_count": 45,
     "metadata": {},
     "output_type": "execute_result"
    },
    {
     "data": {
      "image/png": "[encoded data removed]",
      "text/plain": [
       "<Figure size 432x432 with 3 Axes>"
      ]
     },
     "metadata": {
      "needs_background": "light"
     },
     "output_type": "display_data"
    }
   ],
   "source": [
    "sns.jointplot(x=np.log(param_range_2),y=test_mean_2)"
   ]
  },
  {
   "cell_type": "code",
   "execution_count": 46,
   "id": "2e6759aa",
   "metadata": {},
   "outputs": [
    {
     "data": {
      "text/plain": [
       "(array([47], dtype=int64),)"
      ]
     },
     "execution_count": 46,
     "metadata": {},
     "output_type": "execute_result"
    }
   ],
   "source": [
    "np.where(test_mean_2==max(test_mean_2))"
   ]
  },
  {
   "cell_type": "code",
   "execution_count": 47,
   "id": "21f5dd18",
   "metadata": {},
   "outputs": [
    {
     "data": {
      "text/plain": [
       "Lasso(alpha=559.0810182512223)"
      ]
     },
     "execution_count": 47,
     "metadata": {},
     "output_type": "execute_result"
    }
   ],
   "source": [
    "lm_lasso_best=Lasso(alpha=param_range_2[47])\n",
    "lm_lasso_best.fit(X_train,y_train)"
   ]
  },
  {
   "cell_type": "code",
   "execution_count": 48,
   "id": "4990c5a8",
   "metadata": {},
   "outputs": [
    {
     "name": "stdout",
     "output_type": "stream",
     "text": [
      "R2 of the test data: 0.5748111960887851\n",
      "R2 of the training data: 0.6263804421016375\n"
     ]
    }
   ],
   "source": [
    "print(\"R2 of the test data:\",r2_score(y_test,\n",
    "                    lm_lasso_best.predict(X_test)))\n",
    "print(\"R2 of the training data:\",r2_score(y_train,\n",
    "                    lm_lasso_best.predict(X_train)))"
   ]
  },
  {
   "cell_type": "markdown",
   "id": "2111d6fb",
   "metadata": {},
   "source": [
    "#### we observe that $R^2$ score is improved from 41% to 57% for the test data. However, it is less compared to the $R^2$ score of the training data."
   ]
  },
  {
   "cell_type": "code",
   "execution_count": 49,
   "id": "fa1d89ca",
   "metadata": {},
   "outputs": [
    {
     "name": "stdout",
     "output_type": "stream",
     "text": [
      "The RMSE on the training data: 6650.922345232682\n",
      "The RMSE on the test data: 6241.0836119587075\n"
     ]
    }
   ],
   "source": [
    "print(\"The RMSE on the training data:\",np.sqrt(mean_squared_error\n",
    "                    (y_train,lm_lasso_best.predict(X_train))))\n",
    "print(\"The RMSE on the test data:\",np.sqrt(mean_squared_error\n",
    "                    (y_test,lm_lasso_best.predict(X_test))))"
   ]
  },
  {
   "cell_type": "markdown",
   "id": "d882dec9",
   "metadata": {},
   "source": [
    "We observe that the model is underfit. Model performance is not good on both training and testing data. \n",
    "\n",
    "\n",
    "we have the following observations:\n",
    "* For the OLS model, the RMSE is 6213.25\n",
    "* For the multiple linear regression model of sklearn, the RMSE on test set is 7318.226 and training set is 6201.85\n",
    "* For the ridge regression model, the RMSE on test set is 6118.496 and training set is 6789.661\n",
    "* For the lasso regression, the RMSE on test set is 6241.083 and training set is 6650.92\n",
    "\n",
    "\n",
    "The error is minimum for the lasso regression model. The corresponding $R^2$ score on test data is 57.48%, which is quite low. On comparing different models, we see that the Lasso model has a good performance."
   ]
  }
 ],
 "metadata": {
  "kernelspec": {
   "display_name": "Python 3",
   "language": "python",
   "name": "python3"
  },
  "language_info": {
   "codemirror_mode": {
    "name": "ipython",
    "version": 3
   },
   "file_extension": ".py",
   "mimetype": "text/x-python",
   "name": "python",
   "nbconvert_exporter": "python",
   "pygments_lexer": "ipython3",
   "version": "3.8.8"
  }
 },
 "nbformat": 4,
 "nbformat_minor": 5
}
